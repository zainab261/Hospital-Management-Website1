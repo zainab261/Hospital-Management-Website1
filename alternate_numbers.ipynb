{
  "nbformat": 4,
  "nbformat_minor": 0,
  "metadata": {
    "colab": {
      "provenance": [],
      "authorship_tag": "ABX9TyOmjeJrwrIE/TRn2e9VtskS",
      "include_colab_link": true
    },
    "kernelspec": {
      "name": "python3",
      "display_name": "Python 3"
    },
    "language_info": {
      "name": "python"
    }
  },
  "cells": [
    {
      "cell_type": "markdown",
      "metadata": {
        "id": "view-in-github",
        "colab_type": "text"
      },
      "source": [
        "<a href=\"https://colab.research.google.com/github/zainab261/Hospital-Management-Website1/blob/main/alternate_numbers.ipynb\" target=\"_parent\"><img src=\"https://colab.research.google.com/assets/colab-badge.svg\" alt=\"Open In Colab\"/></a>"
      ]
    },
    {
      "cell_type": "code",
      "source": [
        "a=[-5, -2, 5, 2, -4, -8,0]\n",
        "#Splitting an array in two arrays\n",
        "pos = [num for num in a if num >= 0]#pos array conatain all the positive number and consider 0 as positve number\n",
        "neg = [num for num in a if num < 0]#neg  array contain all the negative number\n",
        "result = []# this is an empty array\n",
        "#Adding positive and then negative number one by one  in result by using for loop\n",
        "for i in range(min(len(pos),len(neg))):\n",
        "      result.append(pos[i])\n",
        "      result.append(neg[i])\n",
        "#extend method add the remaining elements at last\n",
        "if len(pos)>len(neg) :\n",
        "      result.extend(pos[len(neg):])\n",
        "if len(neg)>len(pos):\n",
        "      result.extend(neg[len(pos):])\n",
        "print(result)\n",
        "\n",
        "\n",
        "#space complexity=O(n)\n",
        "#time complexity=O(n)\n",
        "\n",
        "\n"
      ],
      "metadata": {
        "colab": {
          "base_uri": "https://localhost:8080/"
        },
        "id": "EZV0cpQrke3z",
        "outputId": "389d456f-fbab-4c5e-c862-4b23588afa72"
      },
      "execution_count": 5,
      "outputs": [
        {
          "output_type": "stream",
          "name": "stdout",
          "text": [
            "[5, -5, 2, -2, 0, -4, -8]\n"
          ]
        }
      ]
    }
  ]
}